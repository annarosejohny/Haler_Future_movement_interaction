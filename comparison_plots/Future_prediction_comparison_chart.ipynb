{
 "cells": [
  {
   "cell_type": "code",
   "execution_count": 1,
   "id": "53b5d73e",
   "metadata": {},
   "outputs": [],
   "source": [
    "import numpy as np\n",
    "import matplotlib.pyplot as plt\n",
    "import pandas as pd"
   ]
  },
  {
   "cell_type": "code",
   "execution_count": 2,
   "id": "d591256d",
   "metadata": {
    "scrolled": false
   },
   "outputs": [
    {
     "data": {
      "text/html": [
       "<div>\n",
       "<style scoped>\n",
       "    .dataframe tbody tr th:only-of-type {\n",
       "        vertical-align: middle;\n",
       "    }\n",
       "\n",
       "    .dataframe tbody tr th {\n",
       "        vertical-align: top;\n",
       "    }\n",
       "\n",
       "    .dataframe thead th {\n",
       "        text-align: right;\n",
       "    }\n",
       "</style>\n",
       "<table border=\"1\" class=\"dataframe\">\n",
       "  <thead>\n",
       "    <tr style=\"text-align: right;\">\n",
       "      <th></th>\n",
       "      <th>Models</th>\n",
       "      <th>Set 1B</th>\n",
       "      <th>Set 1C</th>\n",
       "      <th>Set 2B</th>\n",
       "      <th>Set 2C</th>\n",
       "      <th>Set 3B</th>\n",
       "      <th>Set 3C</th>\n",
       "      <th>Set 4B</th>\n",
       "      <th>Set 4C</th>\n",
       "      <th>Set 5B</th>\n",
       "      <th>Set 5C</th>\n",
       "      <th>Set 6B</th>\n",
       "      <th>Set 6C</th>\n",
       "    </tr>\n",
       "  </thead>\n",
       "  <tbody>\n",
       "    <tr>\n",
       "      <th>0</th>\n",
       "      <td>RF</td>\n",
       "      <td>0.88</td>\n",
       "      <td>0.88</td>\n",
       "      <td>0.79</td>\n",
       "      <td>0.84</td>\n",
       "      <td>0.96</td>\n",
       "      <td>0.94</td>\n",
       "      <td>0.96</td>\n",
       "      <td>0.94</td>\n",
       "      <td>0.96</td>\n",
       "      <td>1.00</td>\n",
       "      <td>0.96</td>\n",
       "      <td>0.97</td>\n",
       "    </tr>\n",
       "    <tr>\n",
       "      <th>1</th>\n",
       "      <td>KNN</td>\n",
       "      <td>0.88</td>\n",
       "      <td>0.88</td>\n",
       "      <td>0.92</td>\n",
       "      <td>0.91</td>\n",
       "      <td>0.96</td>\n",
       "      <td>0.94</td>\n",
       "      <td>0.96</td>\n",
       "      <td>0.94</td>\n",
       "      <td>1.00</td>\n",
       "      <td>0.97</td>\n",
       "      <td>0.96</td>\n",
       "      <td>0.97</td>\n",
       "    </tr>\n",
       "    <tr>\n",
       "      <th>2</th>\n",
       "      <td>XG</td>\n",
       "      <td>0.88</td>\n",
       "      <td>0.78</td>\n",
       "      <td>0.79</td>\n",
       "      <td>0.66</td>\n",
       "      <td>0.79</td>\n",
       "      <td>0.72</td>\n",
       "      <td>0.92</td>\n",
       "      <td>0.84</td>\n",
       "      <td>0.79</td>\n",
       "      <td>0.75</td>\n",
       "      <td>0.88</td>\n",
       "      <td>0.81</td>\n",
       "    </tr>\n",
       "  </tbody>\n",
       "</table>\n",
       "</div>"
      ],
      "text/plain": [
       "  Models  Set 1B  Set 1C  Set 2B  Set 2C  Set 3B  Set 3C  Set 4B  Set 4C  \\\n",
       "0     RF    0.88    0.88    0.79    0.84    0.96    0.94    0.96    0.94   \n",
       "1    KNN    0.88    0.88    0.92    0.91    0.96    0.94    0.96    0.94   \n",
       "2     XG    0.88    0.78    0.79    0.66    0.79    0.72    0.92    0.84   \n",
       "\n",
       "   Set 5B  Set 5C  Set 6B  Set 6C  \n",
       "0    0.96    1.00    0.96    0.97  \n",
       "1    1.00    0.97    0.96    0.97  \n",
       "2    0.79    0.75    0.88    0.81  "
      ]
     },
     "execution_count": 2,
     "metadata": {},
     "output_type": "execute_result"
    }
   ],
   "source": [
    "data_A = pd.read_csv(\"Test_Loading_saved_model_A.csv\")\n",
    "data_A"
   ]
  },
  {
   "cell_type": "code",
   "execution_count": 3,
   "id": "9185702d",
   "metadata": {},
   "outputs": [
    {
     "data": {
      "text/html": [
       "<div>\n",
       "<style scoped>\n",
       "    .dataframe tbody tr th:only-of-type {\n",
       "        vertical-align: middle;\n",
       "    }\n",
       "\n",
       "    .dataframe tbody tr th {\n",
       "        vertical-align: top;\n",
       "    }\n",
       "\n",
       "    .dataframe thead th {\n",
       "        text-align: right;\n",
       "    }\n",
       "</style>\n",
       "<table border=\"1\" class=\"dataframe\">\n",
       "  <thead>\n",
       "    <tr style=\"text-align: right;\">\n",
       "      <th></th>\n",
       "      <th>Models</th>\n",
       "      <th>Set 1B</th>\n",
       "      <th>Set 2B</th>\n",
       "      <th>Set 3B</th>\n",
       "      <th>Set 4B</th>\n",
       "      <th>Set 5B</th>\n",
       "      <th>Set 6B</th>\n",
       "    </tr>\n",
       "  </thead>\n",
       "  <tbody>\n",
       "    <tr>\n",
       "      <th>0</th>\n",
       "      <td>RF</td>\n",
       "      <td>0.88</td>\n",
       "      <td>0.79</td>\n",
       "      <td>0.96</td>\n",
       "      <td>0.96</td>\n",
       "      <td>0.96</td>\n",
       "      <td>0.96</td>\n",
       "    </tr>\n",
       "    <tr>\n",
       "      <th>1</th>\n",
       "      <td>KNN</td>\n",
       "      <td>0.88</td>\n",
       "      <td>0.92</td>\n",
       "      <td>0.96</td>\n",
       "      <td>0.96</td>\n",
       "      <td>1.00</td>\n",
       "      <td>0.96</td>\n",
       "    </tr>\n",
       "    <tr>\n",
       "      <th>2</th>\n",
       "      <td>XG</td>\n",
       "      <td>0.88</td>\n",
       "      <td>0.79</td>\n",
       "      <td>0.79</td>\n",
       "      <td>0.92</td>\n",
       "      <td>0.79</td>\n",
       "      <td>0.88</td>\n",
       "    </tr>\n",
       "  </tbody>\n",
       "</table>\n",
       "</div>"
      ],
      "text/plain": [
       "  Models  Set 1B  Set 2B  Set 3B  Set 4B  Set 5B  Set 6B\n",
       "0     RF    0.88    0.79    0.96    0.96    0.96    0.96\n",
       "1    KNN    0.88    0.92    0.96    0.96    1.00    0.96\n",
       "2     XG    0.88    0.79    0.79    0.92    0.79    0.88"
      ]
     },
     "execution_count": 3,
     "metadata": {},
     "output_type": "execute_result"
    }
   ],
   "source": [
    "data_A_B = data_A[['Models', 'Set 1B', 'Set 2B', 'Set 3B', 'Set 4B', 'Set 5B', 'Set 6B']]\n",
    "data_A_B"
   ]
  },
  {
   "cell_type": "code",
   "execution_count": 17,
   "id": "04503c34",
   "metadata": {
    "scrolled": true
   },
   "outputs": [
    {
     "data": {
      "image/png": "[encoded data removed]",
      "text/plain": [
       "<Figure size 720x288 with 1 Axes>"
      ]
     },
     "metadata": {
      "needs_background": "light"
     },
     "output_type": "display_data"
    }
   ],
   "source": [
    "data_A_B.plot.bar(x='Models',figsize=(10,4))\n",
    "\n",
    "plt.xlabel('Various models')\n",
    "plt.ylabel('Accuracy')\n",
    "plt.title('Test-Loaded saved Set A, tested on Set B')\n",
    "\n",
    "plt.legend(loc='best')\n",
    "plt.savefig('Test-Loaded saved Set A, tested on Set B.pdf')\n",
    "plt.show()"
   ]
  },
  {
   "cell_type": "code",
   "execution_count": 5,
   "id": "c45a7416",
   "metadata": {
    "scrolled": true
   },
   "outputs": [
    {
     "data": {
      "text/html": [
       "<div>\n",
       "<style scoped>\n",
       "    .dataframe tbody tr th:only-of-type {\n",
       "        vertical-align: middle;\n",
       "    }\n",
       "\n",
       "    .dataframe tbody tr th {\n",
       "        vertical-align: top;\n",
       "    }\n",
       "\n",
       "    .dataframe thead th {\n",
       "        text-align: right;\n",
       "    }\n",
       "</style>\n",
       "<table border=\"1\" class=\"dataframe\">\n",
       "  <thead>\n",
       "    <tr style=\"text-align: right;\">\n",
       "      <th></th>\n",
       "      <th>Models</th>\n",
       "      <th>Set 1C</th>\n",
       "      <th>Set 2C</th>\n",
       "      <th>Set 3C</th>\n",
       "      <th>Set 4C</th>\n",
       "      <th>Set 5C</th>\n",
       "      <th>Set 6C</th>\n",
       "    </tr>\n",
       "  </thead>\n",
       "  <tbody>\n",
       "    <tr>\n",
       "      <th>0</th>\n",
       "      <td>RF</td>\n",
       "      <td>0.88</td>\n",
       "      <td>0.84</td>\n",
       "      <td>0.94</td>\n",
       "      <td>0.94</td>\n",
       "      <td>1.00</td>\n",
       "      <td>0.97</td>\n",
       "    </tr>\n",
       "    <tr>\n",
       "      <th>1</th>\n",
       "      <td>KNN</td>\n",
       "      <td>0.88</td>\n",
       "      <td>0.91</td>\n",
       "      <td>0.94</td>\n",
       "      <td>0.94</td>\n",
       "      <td>0.97</td>\n",
       "      <td>0.97</td>\n",
       "    </tr>\n",
       "    <tr>\n",
       "      <th>2</th>\n",
       "      <td>XG</td>\n",
       "      <td>0.78</td>\n",
       "      <td>0.66</td>\n",
       "      <td>0.72</td>\n",
       "      <td>0.84</td>\n",
       "      <td>0.75</td>\n",
       "      <td>0.81</td>\n",
       "    </tr>\n",
       "  </tbody>\n",
       "</table>\n",
       "</div>"
      ],
      "text/plain": [
       "  Models  Set 1C  Set 2C  Set 3C  Set 4C  Set 5C  Set 6C\n",
       "0     RF    0.88    0.84    0.94    0.94    1.00    0.97\n",
       "1    KNN    0.88    0.91    0.94    0.94    0.97    0.97\n",
       "2     XG    0.78    0.66    0.72    0.84    0.75    0.81"
      ]
     },
     "execution_count": 5,
     "metadata": {},
     "output_type": "execute_result"
    }
   ],
   "source": [
    "data_A_C = data_A[['Models', 'Set 1C', 'Set 2C', 'Set 3C', 'Set 4C', 'Set 5C', 'Set 6C']]\n",
    "data_A_C"
   ]
  },
  {
   "cell_type": "code",
   "execution_count": 18,
   "id": "548f4fb8",
   "metadata": {},
   "outputs": [
    {
     "data": {
      "image/png": "[encoded data removed]",
      "text/plain": [
       "<Figure size 720x288 with 1 Axes>"
      ]
     },
     "metadata": {
      "needs_background": "light"
     },
     "output_type": "display_data"
    }
   ],
   "source": [
    "data_A_C.plot.bar(x='Models',figsize=(10,4))\n",
    "\n",
    "plt.xlabel('Various models')\n",
    "plt.ylabel('Accuracy')\n",
    "plt.title('Test-Loaded saved Set A, tested on Set C')\n",
    "\n",
    "plt.legend(loc='best')\n",
    "plt.savefig('Test-Loaded saved Set A, tested on Set C.pdf')\n",
    "plt.show()"
   ]
  },
  {
   "cell_type": "code",
   "execution_count": 7,
   "id": "7d111a96",
   "metadata": {},
   "outputs": [
    {
     "data": {
      "text/html": [
       "<div>\n",
       "<style scoped>\n",
       "    .dataframe tbody tr th:only-of-type {\n",
       "        vertical-align: middle;\n",
       "    }\n",
       "\n",
       "    .dataframe tbody tr th {\n",
       "        vertical-align: top;\n",
       "    }\n",
       "\n",
       "    .dataframe thead th {\n",
       "        text-align: right;\n",
       "    }\n",
       "</style>\n",
       "<table border=\"1\" class=\"dataframe\">\n",
       "  <thead>\n",
       "    <tr style=\"text-align: right;\">\n",
       "      <th></th>\n",
       "      <th>Models</th>\n",
       "      <th>Set 1A</th>\n",
       "      <th>Set 1C</th>\n",
       "      <th>Set 2A</th>\n",
       "      <th>Set 2C</th>\n",
       "      <th>Set 3A</th>\n",
       "      <th>Set 3C</th>\n",
       "      <th>Set 4A</th>\n",
       "      <th>Set 4C</th>\n",
       "      <th>Set 5A</th>\n",
       "      <th>Set 5C</th>\n",
       "      <th>Set 6A</th>\n",
       "      <th>Set 6C</th>\n",
       "    </tr>\n",
       "  </thead>\n",
       "  <tbody>\n",
       "    <tr>\n",
       "      <th>0</th>\n",
       "      <td>RF</td>\n",
       "      <td>0.96</td>\n",
       "      <td>0.97</td>\n",
       "      <td>0.88</td>\n",
       "      <td>0.97</td>\n",
       "      <td>0.72</td>\n",
       "      <td>0.88</td>\n",
       "      <td>0.92</td>\n",
       "      <td>0.94</td>\n",
       "      <td>1.00</td>\n",
       "      <td>0.94</td>\n",
       "      <td>1.00</td>\n",
       "      <td>0.97</td>\n",
       "    </tr>\n",
       "    <tr>\n",
       "      <th>1</th>\n",
       "      <td>KNN</td>\n",
       "      <td>0.96</td>\n",
       "      <td>1.00</td>\n",
       "      <td>0.96</td>\n",
       "      <td>1.00</td>\n",
       "      <td>0.96</td>\n",
       "      <td>0.94</td>\n",
       "      <td>0.92</td>\n",
       "      <td>0.94</td>\n",
       "      <td>1.00</td>\n",
       "      <td>1.00</td>\n",
       "      <td>0.96</td>\n",
       "      <td>1.00</td>\n",
       "    </tr>\n",
       "    <tr>\n",
       "      <th>2</th>\n",
       "      <td>XG</td>\n",
       "      <td>0.75</td>\n",
       "      <td>0.91</td>\n",
       "      <td>0.58</td>\n",
       "      <td>0.91</td>\n",
       "      <td>0.48</td>\n",
       "      <td>0.66</td>\n",
       "      <td>0.50</td>\n",
       "      <td>0.44</td>\n",
       "      <td>0.67</td>\n",
       "      <td>0.69</td>\n",
       "      <td>0.67</td>\n",
       "      <td>0.63</td>\n",
       "    </tr>\n",
       "  </tbody>\n",
       "</table>\n",
       "</div>"
      ],
      "text/plain": [
       "  Models  Set 1A  Set 1C  Set 2A  Set 2C  Set 3A  Set 3C  Set 4A  Set 4C  \\\n",
       "0     RF    0.96    0.97    0.88    0.97    0.72    0.88    0.92    0.94   \n",
       "1    KNN    0.96    1.00    0.96    1.00    0.96    0.94    0.92    0.94   \n",
       "2     XG    0.75    0.91    0.58    0.91    0.48    0.66    0.50    0.44   \n",
       "\n",
       "   Set 5A  Set 5C  Set 6A  Set 6C  \n",
       "0    1.00    0.94    1.00    0.97  \n",
       "1    1.00    1.00    0.96    1.00  \n",
       "2    0.67    0.69    0.67    0.63  "
      ]
     },
     "execution_count": 7,
     "metadata": {},
     "output_type": "execute_result"
    }
   ],
   "source": [
    "data_B = pd.read_csv('Test_Loaded_saved_model_B.csv')\n",
    "data_B"
   ]
  },
  {
   "cell_type": "code",
   "execution_count": 8,
   "id": "79a93eca",
   "metadata": {},
   "outputs": [
    {
     "data": {
      "text/html": [
       "<div>\n",
       "<style scoped>\n",
       "    .dataframe tbody tr th:only-of-type {\n",
       "        vertical-align: middle;\n",
       "    }\n",
       "\n",
       "    .dataframe tbody tr th {\n",
       "        vertical-align: top;\n",
       "    }\n",
       "\n",
       "    .dataframe thead th {\n",
       "        text-align: right;\n",
       "    }\n",
       "</style>\n",
       "<table border=\"1\" class=\"dataframe\">\n",
       "  <thead>\n",
       "    <tr style=\"text-align: right;\">\n",
       "      <th></th>\n",
       "      <th>Models</th>\n",
       "      <th>Set 1A</th>\n",
       "      <th>Set 2A</th>\n",
       "      <th>Set 3A</th>\n",
       "      <th>Set 4A</th>\n",
       "      <th>Set 5A</th>\n",
       "      <th>Set 6A</th>\n",
       "    </tr>\n",
       "  </thead>\n",
       "  <tbody>\n",
       "    <tr>\n",
       "      <th>0</th>\n",
       "      <td>RF</td>\n",
       "      <td>0.96</td>\n",
       "      <td>0.88</td>\n",
       "      <td>0.72</td>\n",
       "      <td>0.92</td>\n",
       "      <td>1.00</td>\n",
       "      <td>1.00</td>\n",
       "    </tr>\n",
       "    <tr>\n",
       "      <th>1</th>\n",
       "      <td>KNN</td>\n",
       "      <td>0.96</td>\n",
       "      <td>0.96</td>\n",
       "      <td>0.96</td>\n",
       "      <td>0.92</td>\n",
       "      <td>1.00</td>\n",
       "      <td>0.96</td>\n",
       "    </tr>\n",
       "    <tr>\n",
       "      <th>2</th>\n",
       "      <td>XG</td>\n",
       "      <td>0.75</td>\n",
       "      <td>0.58</td>\n",
       "      <td>0.48</td>\n",
       "      <td>0.50</td>\n",
       "      <td>0.67</td>\n",
       "      <td>0.67</td>\n",
       "    </tr>\n",
       "  </tbody>\n",
       "</table>\n",
       "</div>"
      ],
      "text/plain": [
       "  Models  Set 1A  Set 2A  Set 3A  Set 4A  Set 5A  Set 6A\n",
       "0     RF    0.96    0.88    0.72    0.92    1.00    1.00\n",
       "1    KNN    0.96    0.96    0.96    0.92    1.00    0.96\n",
       "2     XG    0.75    0.58    0.48    0.50    0.67    0.67"
      ]
     },
     "execution_count": 8,
     "metadata": {},
     "output_type": "execute_result"
    }
   ],
   "source": [
    "data_B_A = data_B[['Models','Set 1A','Set 2A','Set 3A', 'Set 4A', 'Set 5A', 'Set 6A']]\n",
    "data_B_A"
   ]
  },
  {
   "cell_type": "code",
   "execution_count": 19,
   "id": "d440f8db",
   "metadata": {},
   "outputs": [
    {
     "data": {
      "image/png": "[encoded data removed]",
      "text/plain": [
       "<Figure size 720x288 with 1 Axes>"
      ]
     },
     "metadata": {
      "needs_background": "light"
     },
     "output_type": "display_data"
    }
   ],
   "source": [
    "data_B_A.plot.bar(x='Models',figsize=(10,4))\n",
    "\n",
    "plt.xlabel('Various models')\n",
    "plt.ylabel('Accuracy')\n",
    "plt.title('Test-Loaded saved Set B, tested on Set A')\n",
    "\n",
    "plt.legend(loc='best')\n",
    "plt.savefig('Test-Loaded saved Set B, tested on Set A.pdf')\n",
    "plt.show()"
   ]
  },
  {
   "cell_type": "code",
   "execution_count": 10,
   "id": "a73cdb9c",
   "metadata": {},
   "outputs": [
    {
     "data": {
      "text/html": [
       "<div>\n",
       "<style scoped>\n",
       "    .dataframe tbody tr th:only-of-type {\n",
       "        vertical-align: middle;\n",
       "    }\n",
       "\n",
       "    .dataframe tbody tr th {\n",
       "        vertical-align: top;\n",
       "    }\n",
       "\n",
       "    .dataframe thead th {\n",
       "        text-align: right;\n",
       "    }\n",
       "</style>\n",
       "<table border=\"1\" class=\"dataframe\">\n",
       "  <thead>\n",
       "    <tr style=\"text-align: right;\">\n",
       "      <th></th>\n",
       "      <th>Models</th>\n",
       "      <th>Set 1C</th>\n",
       "      <th>Set 2C</th>\n",
       "      <th>Set 3C</th>\n",
       "      <th>Set 4C</th>\n",
       "      <th>Set 5C</th>\n",
       "      <th>Set 6C</th>\n",
       "    </tr>\n",
       "  </thead>\n",
       "  <tbody>\n",
       "    <tr>\n",
       "      <th>0</th>\n",
       "      <td>RF</td>\n",
       "      <td>0.97</td>\n",
       "      <td>0.97</td>\n",
       "      <td>0.88</td>\n",
       "      <td>0.94</td>\n",
       "      <td>0.94</td>\n",
       "      <td>0.97</td>\n",
       "    </tr>\n",
       "    <tr>\n",
       "      <th>1</th>\n",
       "      <td>KNN</td>\n",
       "      <td>1.00</td>\n",
       "      <td>1.00</td>\n",
       "      <td>0.94</td>\n",
       "      <td>0.94</td>\n",
       "      <td>1.00</td>\n",
       "      <td>1.00</td>\n",
       "    </tr>\n",
       "    <tr>\n",
       "      <th>2</th>\n",
       "      <td>XG</td>\n",
       "      <td>0.91</td>\n",
       "      <td>0.91</td>\n",
       "      <td>0.66</td>\n",
       "      <td>0.44</td>\n",
       "      <td>0.69</td>\n",
       "      <td>0.63</td>\n",
       "    </tr>\n",
       "  </tbody>\n",
       "</table>\n",
       "</div>"
      ],
      "text/plain": [
       "  Models  Set 1C  Set 2C  Set 3C  Set 4C  Set 5C  Set 6C\n",
       "0     RF    0.97    0.97    0.88    0.94    0.94    0.97\n",
       "1    KNN    1.00    1.00    0.94    0.94    1.00    1.00\n",
       "2     XG    0.91    0.91    0.66    0.44    0.69    0.63"
      ]
     },
     "execution_count": 10,
     "metadata": {},
     "output_type": "execute_result"
    }
   ],
   "source": [
    "data_B_C = data_B[['Models','Set 1C','Set 2C','Set 3C', 'Set 4C', 'Set 5C', 'Set 6C']]\n",
    "data_B_C"
   ]
  },
  {
   "cell_type": "code",
   "execution_count": 21,
   "id": "473fabce",
   "metadata": {},
   "outputs": [
    {
     "data": {
      "image/png": "[encoded data removed]",
      "text/plain": [
       "<Figure size 720x288 with 1 Axes>"
      ]
     },
     "metadata": {
      "needs_background": "light"
     },
     "output_type": "display_data"
    }
   ],
   "source": [
    "data_B_C.plot.bar(x='Models',figsize=(10,4))\n",
    "\n",
    "plt.xlabel('Various models')\n",
    "plt.ylabel('Accuracy')\n",
    "plt.title('Test-Loaded saved Set B, tested on Set C')\n",
    "\n",
    "plt.legend(loc='best')\n",
    "plt.savefig('Test-Loaded saved Set B, tested on Set C.pdf')\n",
    "plt.show()"
   ]
  },
  {
   "cell_type": "code",
   "execution_count": 12,
   "id": "c5e8fc5b",
   "metadata": {},
   "outputs": [
    {
     "data": {
      "text/html": [
       "<div>\n",
       "<style scoped>\n",
       "    .dataframe tbody tr th:only-of-type {\n",
       "        vertical-align: middle;\n",
       "    }\n",
       "\n",
       "    .dataframe tbody tr th {\n",
       "        vertical-align: top;\n",
       "    }\n",
       "\n",
       "    .dataframe thead th {\n",
       "        text-align: right;\n",
       "    }\n",
       "</style>\n",
       "<table border=\"1\" class=\"dataframe\">\n",
       "  <thead>\n",
       "    <tr style=\"text-align: right;\">\n",
       "      <th></th>\n",
       "      <th>Models</th>\n",
       "      <th>Set 1A</th>\n",
       "      <th>Set 1B</th>\n",
       "      <th>Set 2A</th>\n",
       "      <th>Set 2B</th>\n",
       "      <th>Set 3A</th>\n",
       "      <th>Set 3B</th>\n",
       "      <th>Set 4A</th>\n",
       "      <th>Set 4B</th>\n",
       "      <th>Set 5A</th>\n",
       "      <th>Set 5B</th>\n",
       "      <th>Set 6A</th>\n",
       "      <th>Set 6B</th>\n",
       "    </tr>\n",
       "  </thead>\n",
       "  <tbody>\n",
       "    <tr>\n",
       "      <th>0</th>\n",
       "      <td>RF</td>\n",
       "      <td>0.79</td>\n",
       "      <td>0.96</td>\n",
       "      <td>0.96</td>\n",
       "      <td>1.00</td>\n",
       "      <td>0.60</td>\n",
       "      <td>0.71</td>\n",
       "      <td>0.96</td>\n",
       "      <td>0.96</td>\n",
       "      <td>0.92</td>\n",
       "      <td>1.00</td>\n",
       "      <td>1.00</td>\n",
       "      <td>0.960</td>\n",
       "    </tr>\n",
       "    <tr>\n",
       "      <th>1</th>\n",
       "      <td>KNN</td>\n",
       "      <td>1.00</td>\n",
       "      <td>1.00</td>\n",
       "      <td>1.00</td>\n",
       "      <td>1.00</td>\n",
       "      <td>0.96</td>\n",
       "      <td>0.92</td>\n",
       "      <td>0.96</td>\n",
       "      <td>0.96</td>\n",
       "      <td>0.96</td>\n",
       "      <td>0.96</td>\n",
       "      <td>0.96</td>\n",
       "      <td>1.000</td>\n",
       "    </tr>\n",
       "    <tr>\n",
       "      <th>2</th>\n",
       "      <td>XG</td>\n",
       "      <td>0.71</td>\n",
       "      <td>0.96</td>\n",
       "      <td>0.50</td>\n",
       "      <td>0.67</td>\n",
       "      <td>0.40</td>\n",
       "      <td>0.58</td>\n",
       "      <td>0.50</td>\n",
       "      <td>0.92</td>\n",
       "      <td>0.83</td>\n",
       "      <td>0.88</td>\n",
       "      <td>0.38</td>\n",
       "      <td>0.625</td>\n",
       "    </tr>\n",
       "  </tbody>\n",
       "</table>\n",
       "</div>"
      ],
      "text/plain": [
       "  Models  Set 1A  Set 1B  Set 2A  Set 2B  Set 3A  Set 3B  Set 4A  Set 4B  \\\n",
       "0     RF    0.79    0.96    0.96    1.00    0.60    0.71    0.96    0.96   \n",
       "1    KNN    1.00    1.00    1.00    1.00    0.96    0.92    0.96    0.96   \n",
       "2     XG    0.71    0.96    0.50    0.67    0.40    0.58    0.50    0.92   \n",
       "\n",
       "   Set 5A  Set 5B  Set 6A  Set 6B  \n",
       "0    0.92    1.00    1.00   0.960  \n",
       "1    0.96    0.96    0.96   1.000  \n",
       "2    0.83    0.88    0.38   0.625  "
      ]
     },
     "execution_count": 12,
     "metadata": {},
     "output_type": "execute_result"
    }
   ],
   "source": [
    "data_C = pd.read_csv('Test_Loaded_saved_model_C .csv')\n",
    "data_C"
   ]
  },
  {
   "cell_type": "code",
   "execution_count": 13,
   "id": "5b5ac1de",
   "metadata": {},
   "outputs": [
    {
     "data": {
      "text/html": [
       "<div>\n",
       "<style scoped>\n",
       "    .dataframe tbody tr th:only-of-type {\n",
       "        vertical-align: middle;\n",
       "    }\n",
       "\n",
       "    .dataframe tbody tr th {\n",
       "        vertical-align: top;\n",
       "    }\n",
       "\n",
       "    .dataframe thead th {\n",
       "        text-align: right;\n",
       "    }\n",
       "</style>\n",
       "<table border=\"1\" class=\"dataframe\">\n",
       "  <thead>\n",
       "    <tr style=\"text-align: right;\">\n",
       "      <th></th>\n",
       "      <th>Models</th>\n",
       "      <th>Set 1A</th>\n",
       "      <th>Set 2A</th>\n",
       "      <th>Set 3A</th>\n",
       "      <th>Set 4A</th>\n",
       "      <th>Set 5A</th>\n",
       "      <th>Set 6A</th>\n",
       "    </tr>\n",
       "  </thead>\n",
       "  <tbody>\n",
       "    <tr>\n",
       "      <th>0</th>\n",
       "      <td>RF</td>\n",
       "      <td>0.79</td>\n",
       "      <td>0.96</td>\n",
       "      <td>0.60</td>\n",
       "      <td>0.96</td>\n",
       "      <td>0.92</td>\n",
       "      <td>1.00</td>\n",
       "    </tr>\n",
       "    <tr>\n",
       "      <th>1</th>\n",
       "      <td>KNN</td>\n",
       "      <td>1.00</td>\n",
       "      <td>1.00</td>\n",
       "      <td>0.96</td>\n",
       "      <td>0.96</td>\n",
       "      <td>0.96</td>\n",
       "      <td>0.96</td>\n",
       "    </tr>\n",
       "    <tr>\n",
       "      <th>2</th>\n",
       "      <td>XG</td>\n",
       "      <td>0.71</td>\n",
       "      <td>0.50</td>\n",
       "      <td>0.40</td>\n",
       "      <td>0.50</td>\n",
       "      <td>0.83</td>\n",
       "      <td>0.38</td>\n",
       "    </tr>\n",
       "  </tbody>\n",
       "</table>\n",
       "</div>"
      ],
      "text/plain": [
       "  Models  Set 1A  Set 2A  Set 3A  Set 4A  Set 5A  Set 6A\n",
       "0     RF    0.79    0.96    0.60    0.96    0.92    1.00\n",
       "1    KNN    1.00    1.00    0.96    0.96    0.96    0.96\n",
       "2     XG    0.71    0.50    0.40    0.50    0.83    0.38"
      ]
     },
     "execution_count": 13,
     "metadata": {},
     "output_type": "execute_result"
    }
   ],
   "source": [
    "data_C_A = data_C[['Models', 'Set 1A', 'Set 2A', 'Set 3A', 'Set 4A', 'Set 5A', 'Set 6A']]\n",
    "data_C_A"
   ]
  },
  {
   "cell_type": "code",
   "execution_count": 22,
   "id": "77fd7e7f",
   "metadata": {},
   "outputs": [
    {
     "data": {
      "image/png": "[encoded data removed]",
      "text/plain": [
       "<Figure size 720x288 with 1 Axes>"
      ]
     },
     "metadata": {
      "needs_background": "light"
     },
     "output_type": "display_data"
    }
   ],
   "source": [
    "data_C_A.plot.bar(x='Models',figsize=(10,4))\n",
    "\n",
    "plt.xlabel('Various models')\n",
    "plt.ylabel('Accuracy')\n",
    "plt.title('Test-Loaded saved Set C, tested on Set A')\n",
    "\n",
    "plt.legend(loc='best')\n",
    "plt.savefig('Test-Loaded saved Set C, tested on Set A.pdf')\n",
    "plt.show()"
   ]
  },
  {
   "cell_type": "code",
   "execution_count": 15,
   "id": "d311d485",
   "metadata": {},
   "outputs": [
    {
     "data": {
      "text/html": [
       "<div>\n",
       "<style scoped>\n",
       "    .dataframe tbody tr th:only-of-type {\n",
       "        vertical-align: middle;\n",
       "    }\n",
       "\n",
       "    .dataframe tbody tr th {\n",
       "        vertical-align: top;\n",
       "    }\n",
       "\n",
       "    .dataframe thead th {\n",
       "        text-align: right;\n",
       "    }\n",
       "</style>\n",
       "<table border=\"1\" class=\"dataframe\">\n",
       "  <thead>\n",
       "    <tr style=\"text-align: right;\">\n",
       "      <th></th>\n",
       "      <th>Models</th>\n",
       "      <th>Set 1B</th>\n",
       "      <th>Set 2B</th>\n",
       "      <th>Set 3B</th>\n",
       "      <th>Set 4B</th>\n",
       "      <th>Set 5B</th>\n",
       "      <th>Set 6B</th>\n",
       "    </tr>\n",
       "  </thead>\n",
       "  <tbody>\n",
       "    <tr>\n",
       "      <th>0</th>\n",
       "      <td>RF</td>\n",
       "      <td>0.96</td>\n",
       "      <td>1.00</td>\n",
       "      <td>0.71</td>\n",
       "      <td>0.96</td>\n",
       "      <td>1.00</td>\n",
       "      <td>0.960</td>\n",
       "    </tr>\n",
       "    <tr>\n",
       "      <th>1</th>\n",
       "      <td>KNN</td>\n",
       "      <td>1.00</td>\n",
       "      <td>1.00</td>\n",
       "      <td>0.92</td>\n",
       "      <td>0.96</td>\n",
       "      <td>0.96</td>\n",
       "      <td>1.000</td>\n",
       "    </tr>\n",
       "    <tr>\n",
       "      <th>2</th>\n",
       "      <td>XG</td>\n",
       "      <td>0.96</td>\n",
       "      <td>0.67</td>\n",
       "      <td>0.58</td>\n",
       "      <td>0.92</td>\n",
       "      <td>0.88</td>\n",
       "      <td>0.625</td>\n",
       "    </tr>\n",
       "  </tbody>\n",
       "</table>\n",
       "</div>"
      ],
      "text/plain": [
       "  Models  Set 1B  Set 2B  Set 3B  Set 4B  Set 5B  Set 6B\n",
       "0     RF    0.96    1.00    0.71    0.96    1.00   0.960\n",
       "1    KNN    1.00    1.00    0.92    0.96    0.96   1.000\n",
       "2     XG    0.96    0.67    0.58    0.92    0.88   0.625"
      ]
     },
     "execution_count": 15,
     "metadata": {},
     "output_type": "execute_result"
    }
   ],
   "source": [
    "data_C_B = data_C[['Models', 'Set 1B', 'Set 2B', 'Set 3B', 'Set 4B', 'Set 5B', 'Set 6B']]\n",
    "data_C_B"
   ]
  },
  {
   "cell_type": "code",
   "execution_count": 23,
   "id": "78017d03",
   "metadata": {},
   "outputs": [
    {
     "data": {
      "image/png": "[encoded data removed]",
      "text/plain": [
       "<Figure size 720x288 with 1 Axes>"
      ]
     },
     "metadata": {
      "needs_background": "light"
     },
     "output_type": "display_data"
    }
   ],
   "source": [
    "data_C_B.plot.bar(x='Models',figsize=(10,4))\n",
    "\n",
    "plt.xlabel('Various models')\n",
    "plt.ylabel('Accuracy')\n",
    "plt.title('Test-Loaded saved Set C, tested on Set B')\n",
    "\n",
    "plt.legend(loc='best')\n",
    "plt.savefig('Test-Loaded saved Set C, tested on Set B.pdf')\n",
    "plt.show()"
   ]
  },
  {
   "cell_type": "code",
   "execution_count": null,
   "id": "60fb53d3",
   "metadata": {},
   "outputs": [],
   "source": []
  }
 ],
 "metadata": {
  "kernelspec": {
   "display_name": "Python 3",
   "language": "python",
   "name": "python3"
  },
  "language_info": {
   "codemirror_mode": {
    "name": "ipython",
    "version": 3
   },
   "file_extension": ".py",
   "mimetype": "text/x-python",
   "name": "python",
   "nbconvert_exporter": "python",
   "pygments_lexer": "ipython3",
   "version": "3.8.8"
  }
 },
 "nbformat": 4,
 "nbformat_minor": 5
}
